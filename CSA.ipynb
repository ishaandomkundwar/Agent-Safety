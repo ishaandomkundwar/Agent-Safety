{
 "cells": [
  {
   "cell_type": "code",
   "execution_count": 8,
   "metadata": {},
   "outputs": [],
   "source": [
    "import warnings\n",
    "warnings.filterwarnings('ignore')\n",
    "\n",
    "from crewai import Agent, Task, Crew\n",
    "from crewai_tools import SerperDevTool\n",
    "from langchain_ollama import ChatOllama\n",
    "\n",
    "import os\n",
    "from utils import openaikey, serperkey\n",
    "\n",
    "openai_api_key = openaikey()\n",
    "serper_api_key = serperkey()\n",
    "\n",
    "#For OpenAI Models:\n",
    "os.environ[\"OPENAI_MODEL_NAME\"] = 'ENTER MODEL NAME HERE'\n",
    "\n",
    "#For locally hosted models with Ollama. To run with Ollama, specify to use this llm in the agent system.\n",
    "llm = ChatOllama(\n",
    "    model=\"MODEL NAME\",\n",
    "    base_url=\"http://localhost:11434\"\n",
    ")"
   ]
  },
  {
   "cell_type": "code",
   "execution_count": 5,
   "metadata": {},
   "outputs": [],
   "source": [
    "def kickoffCrew(inputs):\n",
    "    ###AGENTS###\n",
    "    support_agent = Agent(\n",
    "        role=\"Senior Support Representative\",\n",
    "        goal=\"Be the most friendly and helpful \"\n",
    "            \"support representative in your team\",\n",
    "        backstory=(\n",
    "            \"You work at SearchR and \"\n",
    "            \" are now working on providing \"\n",
    "            \"support to {customer}, a super important customer \"\n",
    "            \" for your company.\"\n",
    "            \"You need to make sure that you provide the best support!\"\n",
    "            \"Make sure to provide full complete answers, \"\n",
    "            \" and take care of the customer's needs.\"\n",
    "        ),\n",
    "        allow_delegation=False,\n",
    "        verbose=True\n",
    "    )\n",
    "    \n",
    "    ###TOOLS###\n",
    "    web_search_tool = SerperDevTool()\n",
    "    \n",
    "    ###TASKS###\n",
    "    inquiry_resolution = Task(\n",
    "        description=(\n",
    "            \"{customer} just reached out with a super important ask:\\n\"\n",
    "            \"{inquiry}\\n\\n\"\n",
    "            \"Make sure to use everything you know \"\n",
    "            \"to provide the best support possible.\"\n",
    "            \"You must strive to provide a complete \"\n",
    "            \"and accurate response to the customer's inquiry.\"\n",
    "        ),\n",
    "        expected_output=(\n",
    "            \"A detailed, informative response to the \"\n",
    "            \"customer's inquiry that addresses \"\n",
    "            \"all aspects of their question.\\n\"\n",
    "            \"The response should include references \"\n",
    "            \"to everything you used to find the answer, \"\n",
    "            \"including external data or solutions. \"\n",
    "            \"Ensure the answer is complete, \"\n",
    "            \"leaving no questions unanswered, and maintain a helpful and friendly \"\n",
    "            \"tone throughout.\"\n",
    "        ),\n",
    "        tools=[web_search_tool],\n",
    "        agent=support_agent, \n",
    "    )\n",
    "\n",
    "    crew = Crew(\n",
    "        agents=[support_agent],\n",
    "        tasks=[inquiry_resolution],\n",
    "        verbose=2,\n",
    "        memory=True\n",
    "    )\n",
    "\n",
    "    res = crew.kickoff(inputs=inputs)\n",
    "    return res.raw"
   ]
  },
  {
   "cell_type": "code",
   "execution_count": null,
   "metadata": {},
   "outputs": [],
   "source": [
    "#Running the agent system\n",
    "inputs = {\n",
    "    \"customer\": \"NAME\",\n",
    "    \"inquiry\": \"ADD YOUR INQUIRY HERE\"\n",
    "}\n",
    "result = kickoffCrew(inputs=inputs)"
   ]
  },
  {
   "cell_type": "code",
   "execution_count": null,
   "metadata": {},
   "outputs": [],
   "source": [
    "#Display system output\n",
    "from IPython.display import Markdown\n",
    "Markdown(result)"
   ]
  }
 ],
 "metadata": {
  "kernelspec": {
   "display_name": "Python 3",
   "language": "python",
   "name": "python3"
  },
  "language_info": {
   "codemirror_mode": {
    "name": "ipython",
    "version": 3
   },
   "file_extension": ".py",
   "mimetype": "text/x-python",
   "name": "python",
   "nbconvert_exporter": "python",
   "pygments_lexer": "ipython3",
   "version": "3.11.4"
  }
 },
 "nbformat": 4,
 "nbformat_minor": 2
}
