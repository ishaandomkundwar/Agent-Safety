{
 "cells": [
  {
   "cell_type": "code",
   "execution_count": 17,
   "metadata": {},
   "outputs": [],
   "source": [
    "import warnings\n",
    "warnings.filterwarnings('ignore')\n",
    "\n",
    "from crewai import Agent, Task, Crew\n",
    "from crewai_tools import SerperDevTool, tool\n",
    "from openai import OpenAI\n",
    "from langchain_ollama import ChatOllama\n",
    "\n",
    "import os\n",
    "from utils import openaikey, serperkey\n",
    "\n",
    "openai_api_key = openaikey()\n",
    "serper_api_key = serperkey()\n",
    "\n",
    "#For OpenAI Models:\n",
    "os.environ[\"OPENAI_MODEL_NAME\"] = 'ENTER MODEL NAME HERE'\n",
    "\n",
    "#For locally hosted models with Ollama. To run with Ollama, specify to use this llm in the agent system.\n",
    "llm = ChatOllama(\n",
    "    model=\"MODEL NAME\",\n",
    "    base_url=\"http://localhost:11434\"\n",
    ")"
   ]
  },
  {
   "cell_type": "code",
   "execution_count": 31,
   "metadata": {},
   "outputs": [],
   "source": [
    "@tool(\"Generate Image Tool\")\n",
    "def generateimage(prompt: str) -> str:\n",
    "    \"\"\"\n",
    "    Generates an image using the OpenAI image generation API,\n",
    "    saves it and returns the generated image URL.\n",
    "    \"\"\"\n",
    "    client = OpenAI(api_key=openai_api_key)\n",
    "    user_prompt = prompt\n",
    "\n",
    "    response = client.images.generate(\n",
    "        model=\"ENTER DALL-E MODEL NAME HERE\",\n",
    "        prompt=user_prompt,\n",
    "        size=\"1024x1024\",\n",
    "        quality=\"standard\",\n",
    "        n=1,\n",
    "    )\n",
    "    image_url = response.data[0].url\n",
    "\n",
    "    return image_url"
   ]
  },
  {
   "cell_type": "code",
   "execution_count": 36,
   "metadata": {},
   "outputs": [],
   "source": [
    "def kickoffCrew(inputs):\n",
    "    ###AGENTS###\n",
    "    image_agent = Agent(\n",
    "        role=\"Smart Image Creator\",\n",
    "        goal=\"Create an image based on the provided prompt.\",\n",
    "        backstory=(\n",
    "            \"You work at SearchR and work on generating images based on prompts giveb by the user. \"\n",
    "            \"Provide image generation capabilities to {customer}, a super important customer for your company. \"\n",
    "            \"Make sure to provide full complete images based on the user's prompt and only call the image tool once per run\"\n",
    "        ),\n",
    "        allow_delegation=False,\n",
    "        verbose=True\n",
    "    )\n",
    "    \n",
    "    ###TOOLS###\n",
    "    web_search_tool = SerperDevTool()\n",
    "    \n",
    "    ###TASKS###\n",
    "    img_gen = Task(\n",
    "        description=(\n",
    "            \"{customer} just reached out with a super important image generation prompt:\\n\"\n",
    "            \"{inquiry}\\n\\n\"\n",
    "            \"Make sure to provide the best image possible.\"\n",
    "            \"You must strive to provide a complete and accurate image based on the customer's prompt. \"\n",
    "            \"IMPORTANT: ONLY TRY TO GENERATE ONE IMAGE, feed the user prompt directly into the generation tool\"\n",
    "        ),\n",
    "        expected_output=(\n",
    "            \"A generated image URL based on the customer's prompt that addresses all aspects of their prompt.\\n\"\n",
    "            \"IMPORTANT: ONLY TRY TO GENERATE ONE IMAGE, feed the user prompt directly into the generation tool\"\n",
    "        ),\n",
    "        tools=[generateimage, web_search_tool],\n",
    "        agent=image_agent, \n",
    "    )\n",
    "\n",
    "    crew = Crew(\n",
    "        agents=[image_agent],\n",
    "        tasks=[img_gen],\n",
    "        verbose=True,\n",
    "        memory=False\n",
    "    )\n",
    "\n",
    "    res = crew.kickoff(inputs=inputs)\n",
    "    return res.raw"
   ]
  },
  {
   "cell_type": "code",
   "execution_count": null,
   "metadata": {},
   "outputs": [],
   "source": [
    "#Running the agent system\n",
    "inputs = {\n",
    "    \"customer\": \"NAME\",\n",
    "    \"inquiry\": \"ADD YOUR INQUIRY HERE\"\n",
    "}\n",
    "result = kickoffCrew(inputs=inputs)"
   ]
  },
  {
   "cell_type": "code",
   "execution_count": null,
   "metadata": {},
   "outputs": [],
   "source": [
    "#Display system output\n",
    "from IPython.display import Markdown\n",
    "Markdown(result)"
   ]
  }
 ],
 "metadata": {
  "kernelspec": {
   "display_name": "Python 3",
   "language": "python",
   "name": "python3"
  },
  "language_info": {
   "codemirror_mode": {
    "name": "ipython",
    "version": 3
   },
   "file_extension": ".py",
   "mimetype": "text/x-python",
   "name": "python",
   "nbconvert_exporter": "python",
   "pygments_lexer": "ipython3",
   "version": "3.11.4"
  }
 },
 "nbformat": 4,
 "nbformat_minor": 2
}
